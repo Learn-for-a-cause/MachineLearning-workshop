{
  "nbformat": 4,
  "nbformat_minor": 0,
  "metadata": {
    "colab": {
      "name": "Python_for_datascience.ipynb",
      "provenance": [],
      "collapsed_sections": [],
      "toc_visible": true,
      "include_colab_link": true
    },
    "kernelspec": {
      "name": "python3",
      "display_name": "Python 3"
    }
  },
  "cells": [
    {
      "cell_type": "markdown",
      "metadata": {
        "id": "view-in-github",
        "colab_type": "text"
      },
      "source": [
        "<a href=\"https://colab.research.google.com/github/Learn-for-a-cause/MachineLearning-workshop/blob/master/Python_for_datascience.ipynb\" target=\"_parent\"><img src=\"https://colab.research.google.com/assets/colab-badge.svg\" alt=\"Open In Colab\"/></a>"
      ]
    },
    {
      "cell_type": "markdown",
      "metadata": {
        "id": "7Pda4abXnHxR",
        "colab_type": "text"
      },
      "source": [
        "# Hello, World! \n",
        "<a href=\"https://colab.research.google.com/github/Learn-for-a-cause/MachineLearning-workshop/Python_for_datascience.ipynb\"><img align=\"left\" src=\"https://colab.research.google.com/assets/colab-badge.svg\\\" alt=\"Open in Colab\" title=\"Open and Execute in Google Colaboratory\"></a></br>\n",
        "\n",
        "Python is a very simple language, and has a very straightforward syntax. It encourages programmers to program without boilerplate (prepared) code. The simplest directive in Python is the \"print\" directive - it simply prints out a line (and also includes a newline, unlike in C).\n",
        "\n",
        "```c\n",
        "// C program to print hello world\n",
        "#include <stdio.h>\n",
        "int main(int argc, char *argv[]) {\n",
        "    printf(\"Hello World! I am C\\n\");\n",
        "    return 0;”\n",
        "}\n",
        "```\n",
        "```python\n",
        "# print Hello world in python\n",
        "print(\"Hello World! I am python)\n",
        "```\n",
        "* Very readable\n",
        "* Quick to put toghter\n",
        "* Runs almost everywhere\n",
        "* Large community\n",
        "* Innumerable Packages"
      ]
    },
    {
      "cell_type": "markdown",
      "metadata": {
        "id": "ETonkB3zuibk",
        "colab_type": "text"
      },
      "source": [
        "# Whitespace Formatting"
      ]
    },
    {
      "cell_type": "code",
      "metadata": {
        "id": "KnEgqWNQujGv",
        "colab_type": "code",
        "colab": {}
      },
      "source": [
        "# type: ignore\n",
        "\n",
        "# The pound sign marks the start of a comment. Python itself\n",
        "# ignores the comments, but they're helpful for anyone reading the code.\n",
        "for i in [1, 2, 3, 4, 5]:\n",
        "    print(i)                    # first line in \"for i\" block\n",
        "    for j in [1, 2, 3, 4, 5]:\n",
        "        print(j)                # first line in \"for j\" block\n",
        "        print(i + j)            # last line in \"for j\" block\n",
        "print(\"done looping\")\n",
        "\n",
        "long_winded_computation = (1 + 2 + 3 + 4 + 5 + 6 + 7 + 8 + 9 + 10 + 11 + 12 +\n",
        "                           13 + 14 + 15 + 16 + 17 + 18 + 19 + 20)\n",
        "\n",
        "list_of_lists = [[1, 2, 3], [4, 5, 6], [7, 8, 9]]\n",
        "\n",
        "easier_to_read_list_of_lists = [[1, 2, 3],\n",
        "                                [4, 5, 6],\n",
        "                                [7, 8, 9]]\n",
        "\n",
        "two_plus_three = 2 + \\\n",
        "                 3"
      ],
      "execution_count": 0,
      "outputs": []
    },
    {
      "cell_type": "markdown",
      "metadata": {
        "id": "0EblPgdXIWKo",
        "colab_type": "text"
      },
      "source": [
        "# Style Guide \n",
        "\n",
        "Nameing conventiones and spacing in python is guarded by [PEP 8](https://pep8.org/) style guide\n",
        "\n"
      ]
    },
    {
      "cell_type": "code",
      "metadata": {
        "id": "1gkXBNJeI0wW",
        "colab_type": "code",
        "colab": {}
      },
      "source": [
        "# veriable declaration\n",
        "# Use snake case for varaibles and functions \n",
        "num_students = 90\n",
        "list_of_names = [\"John\", \"David\", \"Mark\"]"
      ],
      "execution_count": 0,
      "outputs": []
    },
    {
      "cell_type": "markdown",
      "metadata": {
        "id": "wHrHcPW3z1hH",
        "colab_type": "text"
      },
      "source": [
        "# Errors\n",
        "\n",
        "1. Syntax errors\n",
        "2. Run time errors"
      ]
    },
    {
      "cell_type": "code",
      "metadata": {
        "id": "SzQlUVokz9wW",
        "colab_type": "code",
        "outputId": "4efa5c00-4718-4e77-bb6c-bf1d66b173b5",
        "colab": {
          "base_uri": "https://localhost:8080/",
          "height": 130
        }
      },
      "source": [
        "# Syntax error\n",
        "print(\"Hello, world)"
      ],
      "execution_count": 0,
      "outputs": [
        {
          "output_type": "error",
          "ename": "SyntaxError",
          "evalue": "ignored",
          "traceback": [
            "\u001b[0;36m  File \u001b[0;32m\"<ipython-input-9-aa99638b6b55>\"\u001b[0;36m, line \u001b[0;32m1\u001b[0m\n\u001b[0;31m    print(\"Hello, world)\u001b[0m\n\u001b[0m                        ^\u001b[0m\n\u001b[0;31mSyntaxError\u001b[0m\u001b[0;31m:\u001b[0m EOL while scanning string literal\n"
          ]
        }
      ]
    },
    {
      "cell_type": "code",
      "metadata": {
        "id": "uzBtki7W0B4p",
        "colab_type": "code",
        "outputId": "46465c4e-cb6d-4647-db8f-3add8b328409",
        "colab": {
          "base_uri": "https://localhost:8080/",
          "height": 164
        }
      },
      "source": [
        "# Run time error\n",
        "print(Hello, world)"
      ],
      "execution_count": 0,
      "outputs": [
        {
          "output_type": "error",
          "ename": "NameError",
          "evalue": "ignored",
          "traceback": [
            "\u001b[0;31m---------------------------------------------------------------------------\u001b[0m",
            "\u001b[0;31mNameError\u001b[0m                                 Traceback (most recent call last)",
            "\u001b[0;32m<ipython-input-10-65c2bc1cadaf>\u001b[0m in \u001b[0;36m<module>\u001b[0;34m()\u001b[0m\n\u001b[0;32m----> 1\u001b[0;31m \u001b[0mprint\u001b[0m\u001b[0;34m(\u001b[0m\u001b[0mHello\u001b[0m\u001b[0;34m,\u001b[0m \u001b[0mworld\u001b[0m\u001b[0;34m)\u001b[0m\u001b[0;34m\u001b[0m\u001b[0;34m\u001b[0m\u001b[0m\n\u001b[0m",
            "\u001b[0;31mNameError\u001b[0m: name 'Hello' is not defined"
          ]
        }
      ]
    },
    {
      "cell_type": "markdown",
      "metadata": {
        "id": "I5ox7VnEuxa_",
        "colab_type": "text"
      },
      "source": [
        "# Modules"
      ]
    },
    {
      "cell_type": "code",
      "metadata": {
        "id": "txup6DlY8mAG",
        "colab_type": "code",
        "colab": {}
      },
      "source": [
        "#install modules\n",
        "# `!` mark before a line indicates run this as *nix command\n",
        "!pip install request"
      ],
      "execution_count": 0,
      "outputs": []
    },
    {
      "cell_type": "code",
      "metadata": {
        "id": "apu3FGeGuzCx",
        "colab_type": "code",
        "outputId": "b6e412b0-8eb9-42fd-ffdc-e3e0218475e1",
        "colab": {
          "base_uri": "https://localhost:8080/",
          "height": 34
        }
      },
      "source": [
        "import re\n",
        "my_regex = re.compile(\"[0-9]+\", re.I)\n",
        "my_regex.findall(\"My is is 938, zip code 52252\")"
      ],
      "execution_count": 0,
      "outputs": [
        {
          "output_type": "execute_result",
          "data": {
            "text/plain": [
              "['938', '52252']"
            ]
          },
          "metadata": {
            "tags": []
          },
          "execution_count": 5
        }
      ]
    },
    {
      "cell_type": "code",
      "metadata": {
        "id": "vyHxiADqu7Ci",
        "colab_type": "code",
        "outputId": "fcedcbdd-4636-41d3-95e9-3509eabf2597",
        "colab": {
          "base_uri": "https://localhost:8080/",
          "height": 34
        }
      },
      "source": [
        "from collections import defaultdict, Counter\n",
        "lookup = defaultdict(int)\n",
        "my_counter = Counter([1, 1, 3, 3, 3, 4, 4])\n",
        "my_counter"
      ],
      "execution_count": 0,
      "outputs": [
        {
          "output_type": "execute_result",
          "data": {
            "text/plain": [
              "Counter({1: 2, 3: 3, 4: 2})"
            ]
          },
          "metadata": {
            "tags": []
          },
          "execution_count": 8
        }
      ]
    },
    {
      "cell_type": "markdown",
      "metadata": {
        "id": "uf1V2q0mxorL",
        "colab_type": "text"
      },
      "source": [
        "⚠️ **Do not use wildcard while importing**"
      ]
    },
    {
      "cell_type": "code",
      "metadata": {
        "id": "Tb6IuYgtxoRp",
        "colab_type": "code",
        "colab": {}
      },
      "source": [
        "match = 10\n",
        "from re import *    # uh oh, re has a match function, \n",
        "print(match)        # \"<function match at 0x10281e6a8>\""
      ],
      "execution_count": 0,
      "outputs": []
    },
    {
      "cell_type": "markdown",
      "metadata": {
        "id": "y9m5N-379OgI",
        "colab_type": "text"
      },
      "source": [
        "# Operations"
      ]
    },
    {
      "cell_type": "code",
      "metadata": {
        "id": "pCcGXeub9Ul3",
        "colab_type": "code",
        "outputId": "f9efad79-162b-46f6-b960-27dad598a1b1",
        "colab": {
          "base_uri": "https://localhost:8080/",
          "height": 34
        }
      },
      "source": [
        "# BODMAS\n",
        "number = 1 + 2 * 3 / 4.0\n",
        "print(number)"
      ],
      "execution_count": 0,
      "outputs": [
        {
          "output_type": "stream",
          "text": [
            "2.5\n"
          ],
          "name": "stdout"
        }
      ]
    },
    {
      "cell_type": "code",
      "metadata": {
        "id": "RJ5WP2HO9Vkw",
        "colab_type": "code",
        "outputId": "2dbb70e1-b086-4b15-cb8b-814803f0f52d",
        "colab": {
          "base_uri": "https://localhost:8080/",
          "height": 34
        }
      },
      "source": [
        "remainder = 11 % 3\n",
        "print(remainder)"
      ],
      "execution_count": 0,
      "outputs": [
        {
          "output_type": "stream",
          "text": [
            "2\n"
          ],
          "name": "stdout"
        }
      ]
    },
    {
      "cell_type": "code",
      "metadata": {
        "id": "YCLjn0i69Y7o",
        "colab_type": "code",
        "outputId": "f7410eb1-1432-4064-dd9b-250a4ca63bac",
        "colab": {
          "base_uri": "https://localhost:8080/",
          "height": 51
        }
      },
      "source": [
        "squared = 7 ** 2\n",
        "cubed = 2 ** 3\n",
        "print(squared)\n",
        "print(cubed)"
      ],
      "execution_count": 0,
      "outputs": [
        {
          "output_type": "stream",
          "text": [
            "49\n",
            "8\n"
          ],
          "name": "stdout"
        }
      ]
    },
    {
      "cell_type": "markdown",
      "metadata": {
        "id": "10NJfHNB9MVz",
        "colab_type": "text"
      },
      "source": [
        "# Strings"
      ]
    },
    {
      "cell_type": "code",
      "metadata": {
        "id": "_453kHEPArzt",
        "colab_type": "code",
        "outputId": "a0707630-98ea-44d5-849a-b0232a6b7fd5",
        "colab": {
          "base_uri": "https://localhost:8080/",
          "height": 102
        }
      },
      "source": [
        "# Defineing a string\n",
        "single_quoted_string = 'data science'\n",
        "double_quoted_string = \"data science\"\n",
        "\n",
        "tab_string = \"\\t\"       # represents the tab character\n",
        "len(tab_string)         # is 1\n",
        "\n",
        "assert len(tab_string) == 1\n",
        "\n",
        "not_tab_string = r\"\\t\"  # represents the characters '\\' and 't'\n",
        "len(not_tab_string)     # is 2\n",
        "\n",
        "assert len(not_tab_string) == 2\n",
        "\n",
        "multi_line_string = \"\"\"This is the first line.\n",
        "and this is the second line\n",
        "and this is the third line\"\"\"\n",
        "\n",
        "print(type(multi_line_string))\n",
        "print(len(multi_line_string))\n",
        "print(multi_line_string)"
      ],
      "execution_count": 0,
      "outputs": [
        {
          "output_type": "stream",
          "text": [
            "<class 'str'>\n",
            "78\n",
            "This is the first line.\n",
            "and this is the second line\n",
            "and this is the third line\n"
          ],
          "name": "stdout"
        }
      ]
    },
    {
      "cell_type": "code",
      "metadata": {
        "id": "g7306kEmBPUO",
        "colab_type": "code",
        "outputId": "0e210d5e-253c-4f75-cbd7-cf41fe56fa29",
        "colab": {
          "base_uri": "https://localhost:8080/",
          "height": 68
        }
      },
      "source": [
        "#String formatting\n",
        "first_name = \"Joel\"\n",
        "last_name = \"Grus\"\n",
        "\n",
        "full_name1 = first_name + \" \" + last_name             # string addition\n",
        "full_name2 = \"{0} {1}\".format(first_name, last_name)  # string.format\n",
        "\n",
        "full_name3 = f\"{first_name} {last_name}\"\n",
        "print(full_name1)\n",
        "print(full_name2)\n",
        "print(full_name3)"
      ],
      "execution_count": 0,
      "outputs": [
        {
          "output_type": "stream",
          "text": [
            "Joel Grus\n",
            "Joel Grus\n",
            "Joel Grus\n"
          ],
          "name": "stdout"
        }
      ]
    },
    {
      "cell_type": "code",
      "metadata": {
        "id": "aFztKYWiLshU",
        "colab_type": "code",
        "outputId": "b372f26a-c6fd-4d4d-b7af-ede74ecf8de4",
        "colab": {
          "base_uri": "https://localhost:8080/",
          "height": 85
        }
      },
      "source": [
        "# string indexing\n",
        "flavor = \"apple pie\"\n",
        "print(flavor[0:3])\n",
        "print(flavor[:5])\n",
        "print(flavor[5:])\n",
        "print(flavor[:])"
      ],
      "execution_count": 0,
      "outputs": [
        {
          "output_type": "stream",
          "text": [
            "app\n",
            "apple\n",
            " pie\n",
            "apple pie\n"
          ],
          "name": "stdout"
        }
      ]
    },
    {
      "cell_type": "markdown",
      "metadata": {
        "id": "gqy7zSE5QBhn",
        "colab_type": "text"
      },
      "source": [
        "Strings are **immutable**, which means that you can’t change them once you’ve created them\n"
      ]
    },
    {
      "cell_type": "code",
      "metadata": {
        "id": "dKUdYExNQH5Y",
        "colab_type": "code",
        "outputId": "1b956c25-edee-4771-bae3-2b1195c2045c",
        "colab": {
          "base_uri": "https://localhost:8080/",
          "height": 164
        }
      },
      "source": [
        "flavor[4] = \"f\""
      ],
      "execution_count": 0,
      "outputs": [
        {
          "output_type": "error",
          "ename": "TypeError",
          "evalue": "ignored",
          "traceback": [
            "\u001b[0;31m---------------------------------------------------------------------------\u001b[0m",
            "\u001b[0;31mTypeError\u001b[0m                                 Traceback (most recent call last)",
            "\u001b[0;32m<ipython-input-21-e5216508cb3c>\u001b[0m in \u001b[0;36m<module>\u001b[0;34m()\u001b[0m\n\u001b[0;32m----> 1\u001b[0;31m \u001b[0mflavor\u001b[0m\u001b[0;34m[\u001b[0m\u001b[0;36m4\u001b[0m\u001b[0;34m]\u001b[0m \u001b[0;34m=\u001b[0m \u001b[0;34m\"f\"\u001b[0m\u001b[0;34m\u001b[0m\u001b[0;34m\u001b[0m\u001b[0m\n\u001b[0m",
            "\u001b[0;31mTypeError\u001b[0m: 'str' object does not support item assignment"
          ]
        }
      ]
    },
    {
      "cell_type": "code",
      "metadata": {
        "id": "WEfuDckLUOW-",
        "colab_type": "code",
        "outputId": "757d0d5a-8780-4739-d8a8-17c843a3ca23",
        "colab": {
          "base_uri": "https://localhost:8080/",
          "height": 34
        }
      },
      "source": [
        "# string operations\n",
        "num = \"12\"\n",
        "num * 2"
      ],
      "execution_count": 0,
      "outputs": [
        {
          "output_type": "execute_result",
          "data": {
            "text/plain": [
              "'1212'"
            ]
          },
          "metadata": {
            "tags": []
          },
          "execution_count": 48
        }
      ]
    },
    {
      "cell_type": "markdown",
      "metadata": {
        "id": "I9AYRtLKQiJf",
        "colab_type": "text"
      },
      "source": [
        "# Exception handling"
      ]
    },
    {
      "cell_type": "code",
      "metadata": {
        "id": "q6OdELy6Qk5l",
        "colab_type": "code",
        "outputId": "0d859907-68b4-4a74-a4ad-78cd94931e79",
        "colab": {
          "base_uri": "https://localhost:8080/",
          "height": 68
        }
      },
      "source": [
        "try: \n",
        "  print(0/0)\n",
        "except ZeroDivisionError as e:\n",
        "  print(f\"Exception raised due to: {e}\")\n",
        "\n",
        "try:\n",
        "  int(\"d\")\n",
        "except ValueError as e:\n",
        "  print(f\"Exception raised due to: {e}\")\n",
        "\n",
        "try:\n",
        "  d=(1,3)\n",
        "  d[1] = 4\n",
        "except TypeError as e:\n",
        "  print(f\"Exception raised due to: {e}\")"
      ],
      "execution_count": 0,
      "outputs": [
        {
          "output_type": "stream",
          "text": [
            "Exception raised due to: division by zero\n",
            "Exception raised due to: invalid literal for int() with base 10: 'd'\n",
            "Exception raised due to: 'tuple' object does not support item assignment\n"
          ],
          "name": "stdout"
        }
      ]
    },
    {
      "cell_type": "markdown",
      "metadata": {
        "id": "p8t_rPDOhS-7",
        "colab_type": "text"
      },
      "source": [
        "# Data Structures "
      ]
    },
    {
      "cell_type": "markdown",
      "metadata": {
        "id": "p3As3Ykmk0Nq",
        "colab_type": "text"
      },
      "source": [
        "## List"
      ]
    },
    {
      "cell_type": "code",
      "metadata": {
        "id": "ycZ8-MjShSKc",
        "colab_type": "code",
        "colab": {}
      },
      "source": [
        "integer_list = [1, 2, 3]\n",
        "heterogeneous_list = [\"string\", 0.1, True]\n",
        "list_of_lists = [integer_list, heterogeneous_list, []]\n",
        "\n",
        "list_length = len(integer_list)     # equals 3\n",
        "list_sum    = sum(integer_list)     # equals 6\n",
        "\n",
        "\n",
        "assert list_length == 3\n",
        "assert list_sum == 6"
      ],
      "execution_count": 0,
      "outputs": []
    },
    {
      "cell_type": "code",
      "metadata": {
        "id": "UXPTx6vTh6B7",
        "colab_type": "code",
        "colab": {}
      },
      "source": [
        "# List slicing\n",
        "x = [0, 1, 2, 3, 4, 5, 6, 7, 8, 9]\n",
        "\n",
        "zero = x[0]          # equals 0, lists are 0-indexed\n",
        "one = x[1]           # equals 1\n",
        "nine = x[-1]         # equals 9, 'Pythonic' for last element\n",
        "eight = x[-2]        # equals 8, 'Pythonic' for next-to-last element\n",
        "x[0] = -1            # now x is [-1, 1, 2, 3, ..., 9]\n",
        "\n",
        "\n",
        "assert x == [-1, 1, 2, 3, 4, 5, 6, 7, 8, 9]\n",
        "\n",
        "first_three = x[:3]                 # [-1, 1, 2]\n",
        "three_to_end = x[3:]                # [3, 4, ..., 9]\n",
        "one_to_four = x[1:5]                # [1, 2, 3, 4]\n",
        "last_three = x[-3:]                 # [7, 8, 9]\n",
        "without_first_and_last = x[1:-1]    # [1, 2, ..., 8]\n",
        "copy_of_x = x[:]                    # [-1, 1, 2, ..., 9]\n",
        "\n",
        "every_third = x[::3]                 # [-1, 3, 6, 9]\n",
        "five_to_three = x[5:2:-1]            # [5, 4, 3]\n",
        "\n",
        "\n",
        "assert every_third == [-1, 3, 6, 9]\n",
        "assert five_to_three == [5, 4, 3]"
      ],
      "execution_count": 0,
      "outputs": []
    },
    {
      "cell_type": "code",
      "metadata": {
        "id": "4ASIO1Wwi45T",
        "colab_type": "code",
        "colab": {}
      },
      "source": [
        "# List membership checking\n",
        "1 in [1, 2, 3]    # True\n",
        "0 in [1, 2, 3]    # False\n",
        "\n",
        "# List concatination\n",
        "x = [1, 2, 3]\n",
        "x.extend([4, 5, 6])     # x is now [1, 2, 3, 4, 5, 6]\n",
        "\n",
        "\n",
        "assert x == [1, 2, 3, 4, 5, 6]\n",
        "\n",
        "x = [1, 2, 3]\n",
        "y = x + [4, 5, 6]       # y is [1, 2, 3, 4, 5, 6]; x is unchanged\n",
        "\n",
        "\n",
        "assert x == [1, 2, 3]\n",
        "assert y == [1, 2, 3, 4, 5, 6]\n",
        "\n",
        "x = [1, 2, 3]\n",
        "x.append(0)      # x is now [1, 2, 3, 0]\n",
        "y = x[-1]        # equals 0\n",
        "z = len(x)       # equals 4\n",
        "\n",
        "\n",
        "assert x == [1, 2, 3, 0]\n",
        "assert y == 0\n",
        "assert z == 4\n",
        "\n",
        "# List unwrapping\n",
        "x, y = [1, 2]    # now x is 1, y is 2\n",
        "\n",
        "\n",
        "assert x == 1\n",
        "assert y == 2\n",
        "\n",
        "_, y = [1, 2]    # now y == 2, didn't care about the first element\n"
      ],
      "execution_count": 0,
      "outputs": []
    },
    {
      "cell_type": "markdown",
      "metadata": {
        "id": "V2bbutnjkS-J",
        "colab_type": "text"
      },
      "source": [
        "📝 \"_\" is used when we want to assign values to anonymous field"
      ]
    },
    {
      "cell_type": "code",
      "metadata": {
        "id": "MIHMQ0MWJEtW",
        "colab_type": "code",
        "colab": {}
      },
      "source": [
        ""
      ],
      "execution_count": 0,
      "outputs": []
    },
    {
      "cell_type": "markdown",
      "metadata": {
        "id": "I11lLUhDku0A",
        "colab_type": "text"
      },
      "source": [
        "## Tuple\n",
        "\n",
        "Tuple is immutable which mean once created can't be modified"
      ]
    },
    {
      "cell_type": "code",
      "metadata": {
        "id": "5hTVC_utkSDO",
        "colab_type": "code",
        "colab": {}
      },
      "source": [
        "my_list = [1, 2]\n",
        "my_tuple = (1, 2)\n",
        "other_tuple = 3, 4\n",
        "my_list[1] = 3      # my_list is now [1, 3]\n",
        "\n",
        "try:\n",
        "    my_tuple[1] = 3\n",
        "except TypeError:\n",
        "    print(\"cannot modify a tuple\")\n",
        "\n",
        "def sum_and_product(x, y):\n",
        "    return (x + y), (x * y)\n",
        "\n",
        "sp = sum_and_product(2, 3)     # sp is (5, 6)\n",
        "s, p = sum_and_product(5, 10)  # s is 15, p is 50\n",
        "\n",
        "x, y = 1, 2     # now x is 1, y is 2\n",
        "x, y = y, x     # Pythonic way to swap variables; now x is 2, y is 1\n",
        "\n",
        "\n",
        "assert x == 2\n",
        "assert y == 1"
      ],
      "execution_count": 0,
      "outputs": []
    },
    {
      "cell_type": "markdown",
      "metadata": {
        "id": "ZUVrGbrhqYmZ",
        "colab_type": "text"
      },
      "source": [
        "## Dict"
      ]
    },
    {
      "cell_type": "code",
      "metadata": {
        "id": "iWNARkXVqjGv",
        "colab_type": "code",
        "colab": {}
      },
      "source": [
        "empty_dict = {}                     # Pythonic\n",
        "empty_dict2 = dict()                # less Pythonic\n",
        "grades = {\"Joel\": 80, \"Tim\": 95}    # dictionary literal\n",
        "\n",
        "joels_grade = grades[\"Joel\"]        # equals 80\n",
        "\n",
        "\n",
        "assert joels_grade == 80\n",
        "\n",
        "try:\n",
        "    kates_grade = grades[\"Kate\"]\n",
        "except KeyError:\n",
        "    print(\"no grade for Kate!\")\n",
        "\n",
        "joel_has_grade = \"Joel\" in grades     # True\n",
        "kate_has_grade = \"Kate\" in grades     # False\n",
        "\n",
        "\n",
        "assert joel_has_grade\n",
        "assert not kate_has_grade\n",
        "\n",
        "joels_grade = grades.get(\"Joel\", 0)   # equals 80\n",
        "kates_grade = grades.get(\"Kate\", 0)   # equals 0\n",
        "no_ones_grade = grades.get(\"No One\")  # default default is None\n",
        "\n",
        "assert joels_grade == 80\n",
        "assert kates_grade == 0\n",
        "assert no_ones_grade is None\n",
        "\n",
        "grades[\"Tim\"] = 99                    # replaces the old value\n",
        "grades[\"Kate\"] = 100                  # adds a third entry\n",
        "num_students = len(grades)            # equals 3\n",
        "\n",
        "\n",
        "assert num_students == 3"
      ],
      "execution_count": 0,
      "outputs": []
    },
    {
      "cell_type": "code",
      "metadata": {
        "id": "05O31EiPrDuA",
        "colab_type": "code",
        "outputId": "0831913c-6095-4c5c-bcd9-42f6ead43742",
        "colab": {
          "base_uri": "https://localhost:8080/",
          "height": 34
        }
      },
      "source": [
        "tweet = {\n",
        "    \"user\" : \"joelgrus\",\n",
        "    \"text\" : \"Data Science is Awesome\",\n",
        "    \"retweet_count\" : 100,\n",
        "    \"hashtags\" : [\"#data\", \"#science\", \"#datascience\", \"#awesome\", \"#yolo\"]\n",
        "}\n",
        "\n",
        "tweet_keys   = tweet.keys()     # iterable for the keys\n",
        "tweet_values = tweet.values()   # iterable for the values\n",
        "tweet_items  = tweet.items()    # iterable for the (key, value) tuples\n",
        "\n",
        "\"user\" in tweet_keys            # True, but not Pythonic\n",
        "\"user\" in tweet                 # Pythonic way of checking for keys\n",
        "\"joelgrus\" in tweet_values      # True (slow but the only way to check)\n",
        "\n",
        "\n",
        "assert \"user\" in tweet_keys\n",
        "assert \"user\" in tweet\n",
        "assert \"joelgrus\" in tweet_values\n",
        "\n",
        "\n",
        "document = [\"data\", \"science\", \"from\", \"scratch\"]\n",
        "\n",
        "word_counts = {}\n",
        "for word in document:\n",
        "    if word in word_counts:\n",
        "        word_counts[word] += 1\n",
        "    else:\n",
        "        word_counts[word] = 1\n",
        "\n",
        "word_counts = {}\n",
        "for word in document:\n",
        "    try:\n",
        "        word_counts[word] += 1\n",
        "    except KeyError:\n",
        "        word_counts[word] = 1\n",
        "\n",
        "word_counts = {}\n",
        "for word in document:\n",
        "    previous_count = word_counts.get(word, 0)\n",
        "    word_counts[word] = previous_count + 1\n",
        "\n",
        "print(word_counts)"
      ],
      "execution_count": 0,
      "outputs": [
        {
          "output_type": "stream",
          "text": [
            "{'data': 1, 'science': 1, 'from': 1, 'scratch': 1}\n"
          ],
          "name": "stdout"
        }
      ]
    },
    {
      "cell_type": "code",
      "metadata": {
        "id": "MpDXVCd3szg9",
        "colab_type": "code",
        "colab": {}
      },
      "source": [
        "# defaultdict \n",
        "from collections import defaultdict\n",
        "\n",
        "word_counts = defaultdict(int)          # int() produces 0\n",
        "for word in document:\n",
        "    word_counts[word] += 1\n",
        "\n",
        "dd_list = defaultdict(list)             # list() produces an empty list\n",
        "dd_list[2].append(1)                    # now dd_list contains {2: [1]}\n",
        "\n",
        "dd_dict = defaultdict(dict)             # dict() produces an empty dict\n",
        "dd_dict[\"Joel\"][\"City\"] = \"Seattle\"     # {\"Joel\" : {\"City\": Seattle\"}}\n",
        "\n",
        "dd_pair = defaultdict(lambda: [0, 0])\n",
        "dd_pair[2][1] = 1                       # now dd_pair contains {2: [0, 1]}"
      ],
      "execution_count": 0,
      "outputs": []
    },
    {
      "cell_type": "code",
      "metadata": {
        "id": "Yd41AweftTfb",
        "colab_type": "code",
        "colab": {}
      },
      "source": [
        "# Counter\n",
        "from collections import Counter\n",
        "c = Counter([0, 1, 2, 0])          # c is (basically) {0: 2, 1: 1, 2: 1}\n",
        "\n",
        "# recall, document is a list of words\n",
        "word_counts = Counter(document)\n",
        "\n",
        "# print the 10 most common words and their counts\n",
        "for word, count in word_counts.most_common(10):\n",
        "    print(word, count)\n"
      ],
      "execution_count": 0,
      "outputs": []
    },
    {
      "cell_type": "markdown",
      "metadata": {
        "id": "tnNjPvoWvLJD",
        "colab_type": "text"
      },
      "source": [
        "## Set"
      ]
    },
    {
      "cell_type": "code",
      "metadata": {
        "id": "V3sxhp6dvaew",
        "colab_type": "code",
        "colab": {}
      },
      "source": [
        "primes_below_10 = {2, 3, 5, 7}\n",
        "\n",
        "s = set()\n",
        "s.add(1)       # s is now {1}\n",
        "s.add(2)       # s is now {1, 2}\n",
        "s.add(2)       # s is still {1, 2}\n",
        "x = len(s)     # equals 2\n",
        "y = 2 in s     # equals True\n",
        "z = 3 in s     # equals False\n",
        "\n",
        "\n",
        "hundreds_of_other_words = []  # required for the below code to run\n",
        "\n",
        "stopwords_list = [\"a\", \"an\", \"at\"] + hundreds_of_other_words + [\"yet\", \"you\"]\n",
        "\n",
        "\"zip\" in stopwords_list     # False, but have to check every element\n",
        "\n",
        "stopwords_set = set(stopwords_list)\n",
        "\"zip\" in stopwords_set      # very fast to check\n",
        "\n",
        "item_list = [1, 2, 3, 1, 2, 3]\n",
        "num_items = len(item_list)                # 6\n",
        "item_set = set(item_list)                 # {1, 2, 3}\n",
        "num_distinct_items = len(item_set)        # 3\n",
        "distinct_item_list = list(item_set)       # [1, 2, 3]\n",
        "\n",
        "\n",
        "assert num_items == 6\n",
        "assert item_set == {1, 2, 3}\n",
        "assert num_distinct_items == 3\n",
        "assert distinct_item_list == [1, 2, 3]"
      ],
      "execution_count": 0,
      "outputs": []
    },
    {
      "cell_type": "markdown",
      "metadata": {
        "id": "nV-hX2-3suf5",
        "colab_type": "text"
      },
      "source": [
        "# Sorting"
      ]
    },
    {
      "cell_type": "code",
      "metadata": {
        "id": "XDCXSEqOstWJ",
        "colab_type": "code",
        "outputId": "19dde36d-9478-44e0-e7ad-dc2f390d1d77",
        "colab": {
          "base_uri": "https://localhost:8080/",
          "height": 34
        }
      },
      "source": [
        "x = [4, 1, 2, 3]\n",
        "y = sorted(x)     # y is [1, 2, 3, 4], x is unchanged\n",
        "x.sort()          # now x is [1, 2, 3, 4]\n",
        "\n",
        "# sort the list by absolute value from largest to smallest\n",
        "x = sorted([-4, 1, -2, 3], key=abs, reverse=True)  # is [-4, 3, -2, 1]\n",
        "word_counts = {'data': 4, 'science': 3, 'from': 2, 'scratch': 1}\n",
        "# sort the words and counts from highest count to lowest\n",
        "wc = sorted(word_counts.items(),\n",
        "            key=lambda word_and_count: word_and_count[1],\n",
        "            reverse=True)\n",
        "print(wc)"
      ],
      "execution_count": 0,
      "outputs": [
        {
          "output_type": "stream",
          "text": [
            "[('data', 4), ('science', 3), ('from', 2), ('scratch', 1)]\n"
          ],
          "name": "stdout"
        }
      ]
    },
    {
      "cell_type": "markdown",
      "metadata": {
        "id": "CKkR2xWAtWz6",
        "colab_type": "text"
      },
      "source": [
        "# Comprehensions"
      ]
    },
    {
      "cell_type": "markdown",
      "metadata": {
        "id": "tVqsIhUQyHJ9",
        "colab_type": "text"
      },
      "source": [
        "## List"
      ]
    },
    {
      "cell_type": "code",
      "metadata": {
        "id": "rbGEbRAvtWFH",
        "colab_type": "code",
        "colab": {}
      },
      "source": [
        "# not pythonic way\n",
        "even_numbers = []\n",
        "for x in range(5):\n",
        "  if x % 2 == 0:\n",
        "    even_numbers.append(x)\n",
        "\n",
        "# pythonic\n",
        "even_numbers = [x for x in range(5) if x % 2 == 0]  # [0, 2, 4]\n",
        "squares      = [x * x for x in range(5)]            # [0, 1, 4, 9, 16]\n",
        "even_squares = [x * x for x in even_numbers]        # [0, 4, 16]\n",
        "\n",
        "\n",
        "assert even_numbers == [0, 2, 4]\n",
        "assert squares == [0, 1, 4, 9, 16]\n",
        "assert even_squares == [0, 4, 16]"
      ],
      "execution_count": 0,
      "outputs": []
    },
    {
      "cell_type": "markdown",
      "metadata": {
        "id": "mp6uCkK5yJVj",
        "colab_type": "text"
      },
      "source": [
        "## Dict"
      ]
    },
    {
      "cell_type": "code",
      "metadata": {
        "id": "cOS6fxzax-D1",
        "colab_type": "code",
        "colab": {}
      },
      "source": [
        "square_dict = {x: x * x for x in range(5)}  # {0: 0, 1: 1, 2: 4, 3: 9, 4: 16}\n",
        "square_set  = {x * x for x in [1, -1]}      # {1}\n",
        "\n",
        "\n",
        "assert square_dict == {0: 0, 1: 1, 2: 4, 3: 9, 4: 16}\n",
        "assert square_set == {1}\n",
        "\n",
        "zeros = [0 for _ in even_numbers]      # has the same length as even_numbers\n",
        "\n",
        "\n",
        "assert zeros == [0, 0, 0]\n",
        "\n",
        "pairs = [(x, y)\n",
        "         for x in range(10)\n",
        "         for y in range(10)]   # 100 pairs (0,0) (0,1) ... (9,8), (9,9)\n",
        "\n",
        "\n",
        "assert len(pairs) == 100\n",
        "\n",
        "increasing_pairs = [(x, y)                       # only pairs with x < y,\n",
        "                    for x in range(10)           # range(lo, hi) equals\n",
        "                    for y in range(x + 1, 10)]   # [lo, lo + 1, ..., hi - 1]\n",
        "\n",
        "\n",
        "assert len(increasing_pairs) == 9 + 8 + 7 + 6 + 5 + 4 + 3 + 2 + 1\n",
        "assert all(x < y for x, y in increasing_pairs)\n"
      ],
      "execution_count": 0,
      "outputs": []
    },
    {
      "cell_type": "markdown",
      "metadata": {
        "id": "Np7-Uy9zWn6x",
        "colab_type": "text"
      },
      "source": [
        "# Generators"
      ]
    },
    {
      "cell_type": "code",
      "metadata": {
        "id": "QwM50Ds4a94a",
        "colab_type": "code",
        "outputId": "99221384-4511-4296-f55d-a5e2f37ee639",
        "colab": {
          "base_uri": "https://localhost:8080/",
          "height": 34
        }
      },
      "source": [
        "# not pythonic\n",
        "def even_numbers(n):\n",
        "  nums = []\n",
        "  for i in range(n):\n",
        "    if i % 2 == 0:\n",
        "      nums.append(i)\n",
        "  return nums\n",
        "even_numbers(10)"
      ],
      "execution_count": 0,
      "outputs": [
        {
          "output_type": "execute_result",
          "data": {
            "text/plain": [
              "[0, 2, 4, 6, 8]"
            ]
          },
          "metadata": {
            "tags": []
          },
          "execution_count": 32
        }
      ]
    },
    {
      "cell_type": "code",
      "metadata": {
        "id": "yTGNzDvJWm4f",
        "colab_type": "code",
        "outputId": "36703d91-7f34-4cee-ca9a-202831df1b89",
        "colab": {
          "base_uri": "https://localhost:8080/",
          "height": 119
        }
      },
      "source": [
        "# pythonic\n",
        "def even_numbers(n):\n",
        "  nums = []\n",
        "  for i in range(n):\n",
        "    if i % 2 == 0:\n",
        "      yield i\n",
        "\n",
        "# testing code\n",
        "import types\n",
        "if type(even_numbers(10)) == types.GeneratorType:\n",
        "    print(\"Good, The even_numbers function is a generator.\")\n",
        "    for n in even_numbers(10):\n",
        "        print(n)"
      ],
      "execution_count": 0,
      "outputs": [
        {
          "output_type": "stream",
          "text": [
            "Good, The even_numbers function is a generator.\n",
            "0\n",
            "2\n",
            "4\n",
            "6\n",
            "8\n"
          ],
          "name": "stdout"
        }
      ]
    },
    {
      "cell_type": "markdown",
      "metadata": {
        "id": "eYmlgSXzwkZi",
        "colab_type": "text"
      },
      "source": [
        "# Control Flow"
      ]
    },
    {
      "cell_type": "code",
      "metadata": {
        "id": "oXS3mh1Kw1ms",
        "colab_type": "code",
        "colab": {}
      },
      "source": [
        "if 1 > 2:\n",
        "    message = \"if only 1 were greater than two...\"\n",
        "elif 1 > 3:\n",
        "    message = \"elif stands for 'else if'\"\n",
        "else:\n",
        "    message = \"when all else fails use else (if you want to)\"\n",
        "\n",
        "parity = \"even\" if x % 2 == 0 else \"odd\"\n",
        "\n",
        "x = 0\n",
        "while x < 10:\n",
        "    print(f\"{x} is less than 10\")\n",
        "    x += 1\n",
        "\n",
        "# range(10) is the numbers 0, 1, ..., 9\n",
        "for x in range(10):\n",
        "    print(f\"{x} is less than 10\")\n",
        "\n",
        "for x in range(10):\n",
        "    if x == 3:\n",
        "        continue  # go immediately to the next iteration\n",
        "    if x == 5:\n",
        "        break     # quit the loop entirely\n",
        "    print(x)"
      ],
      "execution_count": 0,
      "outputs": []
    },
    {
      "cell_type": "markdown",
      "metadata": {
        "id": "k2v5loe8xYz8",
        "colab_type": "text"
      },
      "source": [
        "# Truthiness"
      ]
    },
    {
      "cell_type": "code",
      "metadata": {
        "id": "QUpaEeeRxa25",
        "colab_type": "code",
        "colab": {}
      },
      "source": [
        "one_is_less_than_two = 1 < 2          # equals True\n",
        "true_equals_false = True == False     # equals False\n",
        "\n",
        "\n",
        "assert one_is_less_than_two\n",
        "assert not true_equals_false\n",
        "\n",
        "x = None\n",
        "assert x == None, \"this is the not the Pythonic way to check for None\"\n",
        "assert x is None, \"this is the Pythonic way to check for None\"\n",
        "\n",
        "\n",
        "def some_function_that_returns_a_string():\n",
        "    return \"\"\n",
        "\n",
        "s = some_function_that_returns_a_string()\n",
        "if s:\n",
        "    first_char = s[0]\n",
        "else:\n",
        "    first_char = \"\"\n",
        "\n",
        "first_char = s and s[0]\n",
        "\n",
        "safe_x = x or 0\n",
        "\n",
        "safe_x = x if x is not None else 0\n",
        "\n",
        "all([True, 1, {3}])   # True, all are truthy\n",
        "all([True, 1, {}])    # False, {} is falsy\n",
        "any([True, 1, {}])    # True, True is truthy\n",
        "all([])               # True, no falsy elements in the list\n",
        "any([])               # False, no truthy elements in the list"
      ],
      "execution_count": 0,
      "outputs": []
    },
    {
      "cell_type": "markdown",
      "metadata": {
        "id": "uB5ZqAgOyoXO",
        "colab_type": "text"
      },
      "source": [
        "# Functions"
      ]
    },
    {
      "cell_type": "code",
      "metadata": {
        "id": "kYki96wepWO2",
        "colab_type": "code",
        "outputId": "85cec2e3-e0f0-4da9-9718-6b837c86f2b8",
        "colab": {
          "base_uri": "https://localhost:8080/",
          "height": 34
        }
      },
      "source": [
        "#builtin functions\n",
        "len"
      ],
      "execution_count": 0,
      "outputs": [
        {
          "output_type": "execute_result",
          "data": {
            "text/plain": [
              "<function len>"
            ]
          },
          "metadata": {
            "tags": []
          },
          "execution_count": 1
        }
      ]
    },
    {
      "cell_type": "code",
      "metadata": {
        "id": "sYBVrsRLpf-I",
        "colab_type": "code",
        "outputId": "bbaf43e8-9054-454e-dd33-53fba5d22ae6",
        "colab": {
          "base_uri": "https://localhost:8080/",
          "height": 34
        }
      },
      "source": [
        "type(len)\n"
      ],
      "execution_count": 0,
      "outputs": [
        {
          "output_type": "execute_result",
          "data": {
            "text/plain": [
              "builtin_function_or_method"
            ]
          },
          "metadata": {
            "tags": []
          },
          "execution_count": 2
        }
      ]
    },
    {
      "cell_type": "code",
      "metadata": {
        "id": "3XZrkMFpqYOv",
        "colab_type": "code",
        "outputId": "d2ea0141-5120-4359-cabe-c4f01c5c20f3",
        "colab": {
          "base_uri": "https://localhost:8080/",
          "height": 102
        }
      },
      "source": [
        "help(len)"
      ],
      "execution_count": 0,
      "outputs": [
        {
          "output_type": "stream",
          "text": [
            "Help on built-in function len in module builtins:\n",
            "\n",
            "len(obj, /)\n",
            "    Return the number of items in a container.\n",
            "\n"
          ],
          "name": "stdout"
        }
      ]
    },
    {
      "cell_type": "code",
      "metadata": {
        "id": "g5e4W0YFp7x2",
        "colab_type": "code",
        "outputId": "b3841088-4a0a-43a9-914d-c2a644ede149",
        "colab": {
          "base_uri": "https://localhost:8080/",
          "height": 34
        }
      },
      "source": [
        "return_value = print(\"What do I return?\")\n",
        "return_value"
      ],
      "execution_count": 0,
      "outputs": [
        {
          "output_type": "stream",
          "text": [
            "What do I return?\n"
          ],
          "name": "stdout"
        }
      ]
    },
    {
      "cell_type": "code",
      "metadata": {
        "id": "THIuoTAnyq-b",
        "colab_type": "code",
        "outputId": "3fcba847-e95a-452b-fbd5-0ded98660821",
        "colab": {
          "base_uri": "https://localhost:8080/",
          "height": 119
        }
      },
      "source": [
        "def double(x):\n",
        "    \"\"\"\n",
        "    This is where you put an optional docstring that explains what the\n",
        "    function does. For example, this function multiplies its input by 2.\n",
        "    \"\"\"\n",
        "    return x * 2\n",
        "\n",
        "def apply_to_one(f):\n",
        "    \"\"\"Calls the function f with 1 as its argument\"\"\"\n",
        "    return f(1)\n",
        "\n",
        "my_double = double             # refers to the previously defined function\n",
        "x = apply_to_one(my_double)    # equals 2\n",
        "\n",
        "\n",
        "assert x == 2\n",
        "\n",
        "# lambda x: x + 4 is called lamada functions or anonymus functions\n",
        "y = apply_to_one(lambda x: x + 4)      # equals 5\n",
        "\n",
        "\n",
        "assert y == 5\n",
        "help(double)"
      ],
      "execution_count": 0,
      "outputs": [
        {
          "output_type": "stream",
          "text": [
            "Help on function double in module __main__:\n",
            "\n",
            "double(x)\n",
            "    This is where you put an optional docstring that explains what the\n",
            "    function does. For example, this function multiplies its input by 2.\n",
            "\n"
          ],
          "name": "stdout"
        }
      ]
    },
    {
      "cell_type": "code",
      "metadata": {
        "id": "aHdwg0smy-gK",
        "colab_type": "code",
        "colab": {}
      },
      "source": [
        "another_double = lambda x: 2 * x       # Don't do this\n",
        "\n",
        "def another_double(x):\n",
        "    \"\"\"Do this instead\"\"\"\n",
        "    return 2 * x\n",
        "\n",
        "def my_print(message = \"my default message\"):\n",
        "    print(message)\n",
        "\n",
        "my_print(\"hello\")   # prints 'hello'\n",
        "my_print()          # prints 'my default message'\n",
        "\n",
        "def full_name(first = \"What's-his-name\", last = \"Something\"):\n",
        "    return first + \" \" + last\n",
        "\n",
        "full_name(\"Joel\", \"Grus\")     # \"Joel Grus\"\n",
        "full_name(\"Joel\")             # \"Joel Something\"\n",
        "full_name(last=\"Grus\")        # \"What's-his-name Grus\"\n",
        "\n",
        "\n",
        "assert full_name(\"Joel\", \"Grus\")     == \"Joel Grus\"\n",
        "assert full_name(\"Joel\")             == \"Joel Something\"\n",
        "assert full_name(last=\"Grus\")        == \"What's-his-name Grus\""
      ],
      "execution_count": 0,
      "outputs": []
    },
    {
      "cell_type": "markdown",
      "metadata": {
        "id": "ZFxhDcdcyx9n",
        "colab_type": "text"
      },
      "source": [
        "# args and kwargs"
      ]
    },
    {
      "cell_type": "code",
      "metadata": {
        "id": "dh9gpk3Kq7FN",
        "colab_type": "code",
        "outputId": "b7179d23-94ef-4569-84e4-a5e5c41eb03e",
        "colab": {
          "base_uri": "https://localhost:8080/",
          "height": 51
        }
      },
      "source": [
        "def magic(*args, **kwargs):\n",
        "    print(f\"type: {type(args)} unnamed args: {args}\")\n",
        "    print(f\"type: {type(kwargs)} keyword args: {kwargs}\")\n",
        "\n",
        "magic(1, 2, key=\"word\", key2=\"word2\")"
      ],
      "execution_count": 0,
      "outputs": [
        {
          "output_type": "stream",
          "text": [
            "type: <class 'tuple'> unnamed args: (1, 2)\n",
            "type: <class 'dict'> keyword args: {'key': 'word', 'key2': 'word2'}\n"
          ],
          "name": "stdout"
        }
      ]
    },
    {
      "cell_type": "code",
      "metadata": {
        "id": "c535lAntr50D",
        "colab_type": "code",
        "colab": {}
      },
      "source": [
        "def other_way_magic(x, y, z):\n",
        "    return x + y + z\n",
        "\n",
        "x_y_list = [1, 2]\n",
        "z_dict = {\"z\": 3}\n",
        "assert other_way_magic(*x_y_list, **z_dict) == 6, \"1 + 2 + 3 should be 6\""
      ],
      "execution_count": 0,
      "outputs": []
    },
    {
      "cell_type": "markdown",
      "metadata": {
        "id": "0AFJQRpjslYV",
        "colab_type": "text"
      },
      "source": [
        "# Object-Oriented Programming"
      ]
    },
    {
      "cell_type": "code",
      "metadata": {
        "id": "pTnsiss2JRSe",
        "colab_type": "code",
        "outputId": "00ad7a48-b52d-49b0-b139-b071d4be0fc2",
        "colab": {
          "base_uri": "https://localhost:8080/",
          "height": 1000
        }
      },
      "source": [
        "help(list) #  "
      ],
      "execution_count": 0,
      "outputs": [
        {
          "output_type": "stream",
          "text": [
            "Help on class list in module builtins:\n",
            "\n",
            "class list(object)\n",
            " |  list() -> new empty list\n",
            " |  list(iterable) -> new list initialized from iterable's items\n",
            " |  \n",
            " |  Methods defined here:\n",
            " |  \n",
            " |  __add__(self, value, /)\n",
            " |      Return self+value.\n",
            " |  \n",
            " |  __contains__(self, key, /)\n",
            " |      Return key in self.\n",
            " |  \n",
            " |  __delitem__(self, key, /)\n",
            " |      Delete self[key].\n",
            " |  \n",
            " |  __eq__(self, value, /)\n",
            " |      Return self==value.\n",
            " |  \n",
            " |  __ge__(self, value, /)\n",
            " |      Return self>=value.\n",
            " |  \n",
            " |  __getattribute__(self, name, /)\n",
            " |      Return getattr(self, name).\n",
            " |  \n",
            " |  __getitem__(...)\n",
            " |      x.__getitem__(y) <==> x[y]\n",
            " |  \n",
            " |  __gt__(self, value, /)\n",
            " |      Return self>value.\n",
            " |  \n",
            " |  __iadd__(self, value, /)\n",
            " |      Implement self+=value.\n",
            " |  \n",
            " |  __imul__(self, value, /)\n",
            " |      Implement self*=value.\n",
            " |  \n",
            " |  __init__(self, /, *args, **kwargs)\n",
            " |      Initialize self.  See help(type(self)) for accurate signature.\n",
            " |  \n",
            " |  __iter__(self, /)\n",
            " |      Implement iter(self).\n",
            " |  \n",
            " |  __le__(self, value, /)\n",
            " |      Return self<=value.\n",
            " |  \n",
            " |  __len__(self, /)\n",
            " |      Return len(self).\n",
            " |  \n",
            " |  __lt__(self, value, /)\n",
            " |      Return self<value.\n",
            " |  \n",
            " |  __mul__(self, value, /)\n",
            " |      Return self*value.\n",
            " |  \n",
            " |  __ne__(self, value, /)\n",
            " |      Return self!=value.\n",
            " |  \n",
            " |  __new__(*args, **kwargs) from builtins.type\n",
            " |      Create and return a new object.  See help(type) for accurate signature.\n",
            " |  \n",
            " |  __repr__(self, /)\n",
            " |      Return repr(self).\n",
            " |  \n",
            " |  __reversed__(...)\n",
            " |      L.__reversed__() -- return a reverse iterator over the list\n",
            " |  \n",
            " |  __rmul__(self, value, /)\n",
            " |      Return value*self.\n",
            " |  \n",
            " |  __setitem__(self, key, value, /)\n",
            " |      Set self[key] to value.\n",
            " |  \n",
            " |  __sizeof__(...)\n",
            " |      L.__sizeof__() -- size of L in memory, in bytes\n",
            " |  \n",
            " |  append(...)\n",
            " |      L.append(object) -> None -- append object to end\n",
            " |  \n",
            " |  clear(...)\n",
            " |      L.clear() -> None -- remove all items from L\n",
            " |  \n",
            " |  copy(...)\n",
            " |      L.copy() -> list -- a shallow copy of L\n",
            " |  \n",
            " |  count(...)\n",
            " |      L.count(value) -> integer -- return number of occurrences of value\n",
            " |  \n",
            " |  extend(...)\n",
            " |      L.extend(iterable) -> None -- extend list by appending elements from the iterable\n",
            " |  \n",
            " |  index(...)\n",
            " |      L.index(value, [start, [stop]]) -> integer -- return first index of value.\n",
            " |      Raises ValueError if the value is not present.\n",
            " |  \n",
            " |  insert(...)\n",
            " |      L.insert(index, object) -- insert object before index\n",
            " |  \n",
            " |  pop(...)\n",
            " |      L.pop([index]) -> item -- remove and return item at index (default last).\n",
            " |      Raises IndexError if list is empty or index is out of range.\n",
            " |  \n",
            " |  remove(...)\n",
            " |      L.remove(value) -> None -- remove first occurrence of value.\n",
            " |      Raises ValueError if the value is not present.\n",
            " |  \n",
            " |  reverse(...)\n",
            " |      L.reverse() -- reverse *IN PLACE*\n",
            " |  \n",
            " |  sort(...)\n",
            " |      L.sort(key=None, reverse=False) -> None -- stable sort *IN PLACE*\n",
            " |  \n",
            " |  ----------------------------------------------------------------------\n",
            " |  Data and other attributes defined here:\n",
            " |  \n",
            " |  __hash__ = None\n",
            "\n"
          ],
          "name": "stdout"
        }
      ]
    },
    {
      "cell_type": "code",
      "metadata": {
        "id": "iI_UFXkUJdAj",
        "colab_type": "code",
        "outputId": "10853abc-0dbd-42ac-ce51-72e896022722",
        "colab": {
          "base_uri": "https://localhost:8080/",
          "height": 799
        }
      },
      "source": [
        "dir(list)"
      ],
      "execution_count": 0,
      "outputs": [
        {
          "output_type": "execute_result",
          "data": {
            "text/plain": [
              "['__add__',\n",
              " '__class__',\n",
              " '__contains__',\n",
              " '__delattr__',\n",
              " '__delitem__',\n",
              " '__dir__',\n",
              " '__doc__',\n",
              " '__eq__',\n",
              " '__format__',\n",
              " '__ge__',\n",
              " '__getattribute__',\n",
              " '__getitem__',\n",
              " '__gt__',\n",
              " '__hash__',\n",
              " '__iadd__',\n",
              " '__imul__',\n",
              " '__init__',\n",
              " '__init_subclass__',\n",
              " '__iter__',\n",
              " '__le__',\n",
              " '__len__',\n",
              " '__lt__',\n",
              " '__mul__',\n",
              " '__ne__',\n",
              " '__new__',\n",
              " '__reduce__',\n",
              " '__reduce_ex__',\n",
              " '__repr__',\n",
              " '__reversed__',\n",
              " '__rmul__',\n",
              " '__setattr__',\n",
              " '__setitem__',\n",
              " '__sizeof__',\n",
              " '__str__',\n",
              " '__subclasshook__',\n",
              " 'append',\n",
              " 'clear',\n",
              " 'copy',\n",
              " 'count',\n",
              " 'extend',\n",
              " 'index',\n",
              " 'insert',\n",
              " 'pop',\n",
              " 'remove',\n",
              " 'reverse',\n",
              " 'sort']"
            ]
          },
          "metadata": {
            "tags": []
          },
          "execution_count": 3
        }
      ]
    },
    {
      "cell_type": "markdown",
      "metadata": {
        "id": "O_QEthKFOJ_w",
        "colab_type": "text"
      },
      "source": [
        "methods begin and end with double underscores are called dunder methods or magic methods"
      ]
    },
    {
      "cell_type": "code",
      "metadata": {
        "id": "3mL30SJSOWGp",
        "colab_type": "code",
        "outputId": "39f6c69c-476b-4a6b-9f4e-9703a617ff38",
        "colab": {
          "base_uri": "https://localhost:8080/",
          "height": 34
        }
      },
      "source": [
        "a = [1, 2, 3]\n",
        "a.__len__()"
      ],
      "execution_count": 0,
      "outputs": [
        {
          "output_type": "execute_result",
          "data": {
            "text/plain": [
              "3"
            ]
          },
          "metadata": {
            "tags": []
          },
          "execution_count": 40
        }
      ]
    },
    {
      "cell_type": "code",
      "metadata": {
        "id": "8_oqNHppOqWB",
        "colab_type": "code",
        "outputId": "a92fc3b8-edf7-4344-eb29-31fbeca6003c",
        "colab": {
          "base_uri": "https://localhost:8080/",
          "height": 34
        }
      },
      "source": [
        "len(a)"
      ],
      "execution_count": 0,
      "outputs": [
        {
          "output_type": "execute_result",
          "data": {
            "text/plain": [
              "3"
            ]
          },
          "metadata": {
            "tags": []
          },
          "execution_count": 39
        }
      ]
    },
    {
      "cell_type": "code",
      "metadata": {
        "id": "47JGnd1nKK_1",
        "colab_type": "code",
        "outputId": "a1fc0210-9f60-4585-8f51-54e8c20315dc",
        "colab": {
          "base_uri": "https://localhost:8080/",
          "height": 34
        }
      },
      "source": [
        "__name__ # current module where code is getting executed"
      ],
      "execution_count": 0,
      "outputs": [
        {
          "output_type": "execute_result",
          "data": {
            "text/plain": [
              "'__main__'"
            ]
          },
          "metadata": {
            "tags": []
          },
          "execution_count": 42
        }
      ]
    },
    {
      "cell_type": "markdown",
      "metadata": {
        "id": "nsTqtawHkgde",
        "colab_type": "text"
      },
      "source": [
        "## Set class \n",
        "Build a Set class  as if it is not a inbuilt function"
      ]
    },
    {
      "cell_type": "code",
      "metadata": {
        "id": "8JzueDsXgw2J",
        "colab_type": "code",
        "colab": {}
      },
      "source": [
        "# by convention, we give classes PascalCase names\n",
        "class Set:\n",
        "  # these are the member functions\n",
        "  # every one takes a first parameter \"self\" (another convention)\n",
        "  # that refers to the particular Set object being used\n",
        "  def __init__(self, values=None):\n",
        "    \"\"\"This is the constructor.\n",
        "    It gets called when you create a new Set. You would use it like\n",
        "    s1 = Set()          # empty set\n",
        "    s2 = Set([1,2,2,3]) # initialize with values\"\"\"\n",
        "    self.dict = {} # each instance of Set has its own dict property # which is what we'll use to track memberships\n",
        "    if values is not None: \n",
        "      for value in values:\n",
        "        self.add(value)\n",
        "\n",
        "  def __repr__(self):\n",
        "    \"\"\"this is the string representation of a Set object\n",
        "    if you type it at the Python prompt or pass it to str()\"\"\" \n",
        "    return \"Set: \" + str(self.dict.keys())\n",
        "    \n",
        "  # we'll represent membership by being a key in self.dict with value True\n",
        "  def add(self, value): \n",
        "    self.dict[value] = True\n",
        "\n",
        "  # value is in the Set if it's a key in the dictionary\n",
        "  def contains(self, value): \n",
        "    return value in self.dict\n",
        "\n",
        "  def remove(self, value): \n",
        "    del self.dict[value]"
      ],
      "execution_count": 0,
      "outputs": []
    },
    {
      "cell_type": "code",
      "metadata": {
        "id": "QgWsCRkMk03r",
        "colab_type": "code",
        "outputId": "d7bb557a-34fd-4cae-9fa7-0264611dea1f",
        "colab": {
          "base_uri": "https://localhost:8080/",
          "height": 51
        }
      },
      "source": [
        "s = Set([1,2,3]) \n",
        "s.add(4)\n",
        "print(s.contains(4))\n",
        "s.remove(3)\n",
        "print(s.contains(3))"
      ],
      "execution_count": 0,
      "outputs": [
        {
          "output_type": "stream",
          "text": [
            "True\n",
            "False\n"
          ],
          "name": "stdout"
        }
      ]
    },
    {
      "cell_type": "markdown",
      "metadata": {
        "id": "SMf1j7j5M1MM",
        "colab_type": "text"
      },
      "source": [
        "## Code Introspection"
      ]
    },
    {
      "cell_type": "code",
      "metadata": {
        "id": "694mxsh4LcDP",
        "colab_type": "code",
        "outputId": "7b035790-e9b0-4022-e17b-306a36f45c46",
        "colab": {
          "base_uri": "https://localhost:8080/",
          "height": 34
        }
      },
      "source": [
        "id(s)"
      ],
      "execution_count": 0,
      "outputs": [
        {
          "output_type": "execute_result",
          "data": {
            "text/plain": [
              "140122428073352"
            ]
          },
          "metadata": {
            "tags": []
          },
          "execution_count": 25
        }
      ]
    },
    {
      "cell_type": "code",
      "metadata": {
        "id": "P15igbnrI9Cr",
        "colab_type": "code",
        "outputId": "5a4bc5e6-bab3-43d0-f1c1-3644079a8221",
        "colab": {
          "base_uri": "https://localhost:8080/",
          "height": 34
        }
      },
      "source": [
        "hasattr(s, \"add\")"
      ],
      "execution_count": 0,
      "outputs": [
        {
          "output_type": "execute_result",
          "data": {
            "text/plain": [
              "True"
            ]
          },
          "metadata": {
            "tags": []
          },
          "execution_count": 26
        }
      ]
    },
    {
      "cell_type": "code",
      "metadata": {
        "id": "-hZFZIjFLHMc",
        "colab_type": "code",
        "colab": {}
      },
      "source": [
        "setattr(s, \"_new\", True)"
      ],
      "execution_count": 0,
      "outputs": []
    },
    {
      "cell_type": "code",
      "metadata": {
        "id": "ekkADxpXLV39",
        "colab_type": "code",
        "outputId": "cbdb04f5-5297-419a-d9df-b15d9d77fd9c",
        "colab": {
          "base_uri": "https://localhost:8080/",
          "height": 34
        }
      },
      "source": [
        "s._new"
      ],
      "execution_count": 0,
      "outputs": [
        {
          "output_type": "execute_result",
          "data": {
            "text/plain": [
              "True"
            ]
          },
          "metadata": {
            "tags": []
          },
          "execution_count": 23
        }
      ]
    },
    {
      "cell_type": "code",
      "metadata": {
        "id": "t3BsqpgAMgFu",
        "colab_type": "code",
        "outputId": "da9dcd50-745e-47d4-dabb-f4fa0342cc7b",
        "colab": {
          "base_uri": "https://localhost:8080/",
          "height": 34
        }
      },
      "source": [
        "repr(s)"
      ],
      "execution_count": 0,
      "outputs": [
        {
          "output_type": "execute_result",
          "data": {
            "text/plain": [
              "'Set: dict_keys([1, 2, 4])'"
            ]
          },
          "metadata": {
            "tags": []
          },
          "execution_count": 27
        }
      ]
    },
    {
      "cell_type": "code",
      "metadata": {
        "id": "nzbXsEEIMi2J",
        "colab_type": "code",
        "outputId": "060da6e9-7091-4b0c-9e2d-6ad1461b0f05",
        "colab": {
          "base_uri": "https://localhost:8080/",
          "height": 34
        }
      },
      "source": [
        "callable(s.add)"
      ],
      "execution_count": 0,
      "outputs": [
        {
          "output_type": "execute_result",
          "data": {
            "text/plain": [
              "False"
            ]
          },
          "metadata": {
            "tags": []
          },
          "execution_count": 30
        }
      ]
    },
    {
      "cell_type": "code",
      "metadata": {
        "id": "ZndrEbzvMn7N",
        "colab_type": "code",
        "outputId": "8240ffeb-d822-479a-a72b-6dd1017361af",
        "colab": {
          "base_uri": "https://localhost:8080/",
          "height": 34
        }
      },
      "source": [
        "isinstance(s, Set)"
      ],
      "execution_count": 0,
      "outputs": [
        {
          "output_type": "execute_result",
          "data": {
            "text/plain": [
              "True"
            ]
          },
          "metadata": {
            "tags": []
          },
          "execution_count": 31
        }
      ]
    },
    {
      "cell_type": "markdown",
      "metadata": {
        "id": "BYZKLCZTNmg4",
        "colab_type": "text"
      },
      "source": [
        "## Class inheritance"
      ]
    },
    {
      "cell_type": "code",
      "metadata": {
        "id": "sepExA-lNg-U",
        "colab_type": "code",
        "colab": {}
      },
      "source": [
        "class CountingClicker:\n",
        "    \"\"\"A class can/should have a docstring, just like a function\"\"\"\n",
        "\n",
        "    def __init__(self, count = 0):\n",
        "        self.count = count\n",
        "\n",
        "    def __repr__(self):\n",
        "        return f\"CountingClicker(count={self.count})\"\n",
        "\n",
        "    def click(self, num_times = 1):\n",
        "        \"\"\"Click the clicker some number of times.\"\"\"\n",
        "        self.count += num_times\n",
        "\n",
        "    def read(self):\n",
        "        return self.count\n",
        "\n",
        "    def reset(self):\n",
        "        self.count = 0\n",
        "\n",
        "clicker = CountingClicker()\n",
        "assert clicker.read() == 0, \"clicker should start with count 0\"\n",
        "clicker.click()\n",
        "clicker.click()\n",
        "assert clicker.read() == 2, \"after two clicks, clicker should have count 2\"\n",
        "clicker.reset()\n",
        "assert clicker.read() == 0, \"after reset, clicker should be back to 0\""
      ],
      "execution_count": 0,
      "outputs": []
    },
    {
      "cell_type": "code",
      "metadata": {
        "id": "p4hZ69ihS6em",
        "colab_type": "code",
        "colab": {}
      },
      "source": [
        "# A subclass inherits all the behavior of its parent class.\n",
        "class NoResetClicker(CountingClicker):\n",
        "\n",
        "    def __init__(self, count = 0):\n",
        "        super().__init__(count)\n",
        "\n",
        "    # This class has all the same methods as CountingClicker\n",
        "\n",
        "    # Except that it has a reset method that does nothing.\n",
        "    def reset(self):\n",
        "        pass\n",
        "\n",
        "clicker2 = NoResetClicker(10)\n",
        "assert clicker2.read() == 10\n",
        "clicker2.click()\n",
        "assert clicker2.read() == 11\n",
        "clicker2.reset()\n",
        "assert clicker2.read() == 11, \"reset shouldn't do anything\""
      ],
      "execution_count": 0,
      "outputs": []
    },
    {
      "cell_type": "code",
      "metadata": {
        "id": "qVGiK8MjNu43",
        "colab_type": "code",
        "outputId": "2c9af8ef-5df8-4d59-ad3d-c3def7385c83",
        "colab": {
          "base_uri": "https://localhost:8080/",
          "height": 34
        }
      },
      "source": [
        "issubclass(NoResetClicker, CountingClicker)"
      ],
      "execution_count": 0,
      "outputs": [
        {
          "output_type": "execute_result",
          "data": {
            "text/plain": [
              "True"
            ]
          },
          "metadata": {
            "tags": []
          },
          "execution_count": 46
        }
      ]
    },
    {
      "cell_type": "code",
      "metadata": {
        "id": "Uww43DXeS1-I",
        "colab_type": "code",
        "outputId": "070717fa-d4db-44d2-c90c-22b71416b95a",
        "colab": {
          "base_uri": "https://localhost:8080/",
          "height": 198
        }
      },
      "source": [
        "from abc import ABC, abstractmethod\n",
        "\n",
        "# Abstract class\n",
        "class CustomResetClicker(ABC): # inherits abstract base class\n",
        "  # No instance of CustomResetClicker can be created, it can only be inherited\n",
        "  # reset method has to be overridden when extending CustomResetClicker\n",
        "  @abstractmethod\n",
        "  def reset(self):\n",
        "    pass\n",
        "\n",
        "clicker3 = CustomResetClicker()"
      ],
      "execution_count": 0,
      "outputs": [
        {
          "output_type": "error",
          "ename": "TypeError",
          "evalue": "ignored",
          "traceback": [
            "\u001b[0;31m---------------------------------------------------------------------------\u001b[0m",
            "\u001b[0;31mTypeError\u001b[0m                                 Traceback (most recent call last)",
            "\u001b[0;32m<ipython-input-49-04087a9c6974>\u001b[0m in \u001b[0;36m<module>\u001b[0;34m()\u001b[0m\n\u001b[1;32m      9\u001b[0m     \u001b[0;32mpass\u001b[0m\u001b[0;34m\u001b[0m\u001b[0;34m\u001b[0m\u001b[0m\n\u001b[1;32m     10\u001b[0m \u001b[0;34m\u001b[0m\u001b[0m\n\u001b[0;32m---> 11\u001b[0;31m \u001b[0mclicker3\u001b[0m \u001b[0;34m=\u001b[0m \u001b[0mCustomResetClicker\u001b[0m\u001b[0;34m(\u001b[0m\u001b[0;34m)\u001b[0m\u001b[0;34m\u001b[0m\u001b[0;34m\u001b[0m\u001b[0m\n\u001b[0m",
            "\u001b[0;31mTypeError\u001b[0m: Can't instantiate abstract class CustomResetClicker with abstract methods reset"
          ]
        }
      ]
    },
    {
      "cell_type": "markdown",
      "metadata": {
        "id": "bFJGwxnPevEA",
        "colab_type": "text"
      },
      "source": [
        "## Instance, Class, and Static Methods"
      ]
    },
    {
      "cell_type": "code",
      "metadata": {
        "id": "F7W5HkkJe0f9",
        "colab_type": "code",
        "colab": {}
      },
      "source": [
        "class MyClass:\n",
        "    def method(self):\n",
        "        return 'instance method called', self\n",
        "\n",
        "    @classmethod\n",
        "    def classmethod(cls):\n",
        "        return 'class method called', cls\n",
        "\n",
        "    @staticmethod\n",
        "    def staticmethod():\n",
        "        return 'static method called'"
      ],
      "execution_count": 0,
      "outputs": []
    },
    {
      "cell_type": "code",
      "metadata": {
        "id": "fWMmyIFAgT1h",
        "colab_type": "code",
        "outputId": "60ed32f3-e3f3-4bf8-d154-feffc39c2fcd",
        "colab": {
          "base_uri": "https://localhost:8080/",
          "height": 198
        }
      },
      "source": [
        "MyClass.classmethod() # ('class method called', __main__.MyClass)\n",
        "MyClass.staticmethod() # 'static method called'\n",
        "MyClass.method()"
      ],
      "execution_count": 0,
      "outputs": [
        {
          "output_type": "error",
          "ename": "TypeError",
          "evalue": "ignored",
          "traceback": [
            "\u001b[0;31m---------------------------------------------------------------------------\u001b[0m",
            "\u001b[0;31mTypeError\u001b[0m                                 Traceback (most recent call last)",
            "\u001b[0;32m<ipython-input-61-d5aac172314f>\u001b[0m in \u001b[0;36m<module>\u001b[0;34m()\u001b[0m\n\u001b[1;32m      1\u001b[0m \u001b[0mMyClass\u001b[0m\u001b[0;34m.\u001b[0m\u001b[0mclassmethod\u001b[0m\u001b[0;34m(\u001b[0m\u001b[0;34m)\u001b[0m \u001b[0;31m# ('class method called', __main__.MyClass)\u001b[0m\u001b[0;34m\u001b[0m\u001b[0;34m\u001b[0m\u001b[0m\n\u001b[1;32m      2\u001b[0m \u001b[0mMyClass\u001b[0m\u001b[0;34m.\u001b[0m\u001b[0mstaticmethod\u001b[0m\u001b[0;34m(\u001b[0m\u001b[0;34m)\u001b[0m \u001b[0;31m# 'static method called'\u001b[0m\u001b[0;34m\u001b[0m\u001b[0;34m\u001b[0m\u001b[0m\n\u001b[0;32m----> 3\u001b[0;31m \u001b[0mMyClass\u001b[0m\u001b[0;34m.\u001b[0m\u001b[0mmethod\u001b[0m\u001b[0;34m(\u001b[0m\u001b[0;34m)\u001b[0m\u001b[0;34m\u001b[0m\u001b[0;34m\u001b[0m\u001b[0m\n\u001b[0m",
            "\u001b[0;31mTypeError\u001b[0m: method() missing 1 required positional argument: 'self'"
          ]
        }
      ]
    },
    {
      "cell_type": "markdown",
      "metadata": {
        "id": "PrUyb4RSuZCD",
        "colab_type": "text"
      },
      "source": [
        "# Context managers"
      ]
    },
    {
      "cell_type": "code",
      "metadata": {
        "id": "kquBJb9dikWf",
        "colab_type": "code",
        "colab": {}
      },
      "source": [
        "with open('data.txt', 'w') as f:\n",
        "    data = 'some data to be written to the file'\n",
        "    f.write(data)"
      ],
      "execution_count": 0,
      "outputs": []
    },
    {
      "cell_type": "markdown",
      "metadata": {
        "id": "iu7yOnA-udlr",
        "colab_type": "text"
      },
      "source": [
        "# Decorators"
      ]
    },
    {
      "cell_type": "code",
      "metadata": {
        "id": "RHh-_aOlpvJN",
        "colab_type": "code",
        "outputId": "9c91167b-c144-4b61-92a3-f855db306344",
        "colab": {
          "base_uri": "https://localhost:8080/",
          "height": 68
        }
      },
      "source": [
        "def my_decorator(func):\n",
        "    def wrapper():\n",
        "        print(\"Something is happening before the function is called.\")\n",
        "        func()\n",
        "        print(\"Something is happening after the function is called.\")\n",
        "    return wrapper\n",
        "\n",
        "@my_decorator\n",
        "def say_whee():\n",
        "    print(\"Whee!\")\n",
        "\n",
        "say_whee()"
      ],
      "execution_count": 0,
      "outputs": [
        {
          "output_type": "stream",
          "text": [
            "Something is happening before the function is called.\n",
            "Whee!\n",
            "Something is happening after the function is called.\n"
          ],
          "name": "stdout"
        }
      ]
    },
    {
      "cell_type": "markdown",
      "metadata": {
        "id": "Wl9y_wrNu4FP",
        "colab_type": "text"
      },
      "source": [
        "# Resources\n",
        "\n",
        "**Learning** \n",
        "* https://www.datacamp.com/courses/tech:python\n",
        "* https://www.dataquest.io/directory/\n",
        "* https://www.hackerrank.com/domains/python/\n",
        "\n",
        "**Exercises**\n",
        "* https://exercism.io/tracks/python/exercises\n",
        "* https://codechalleng.es/bites/\n",
        "\n",
        "**Real projects**\n",
        "* https://reversepython.net/\n",
        "\n",
        "**Blogs & Podcasts**\n",
        "* https://realpython.com/\n",
        "* https://pyvideo.org/events.html\n",
        "\n",
        "\n",
        "**Youtube channel**\n",
        "* Freecodecamp - https://www.youtube.com/channel/UC8butISFwT-Wl7EV0hUK0BQ\n",
        "* CS50 - https://www.youtube.com/user/cs50tv/playlists\n",
        "* Coding train- https://www.youtube.com/channel/UCvjgXvBlbQiydffZU7m1_aw\n",
        "* Pydata - https://www.youtube.com/channel/UCOjD18EJYcsBog4IozkF_7w"
      ]
    }
  ]
}